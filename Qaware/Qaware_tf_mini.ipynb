{
 "cells": [
  {
   "cell_type": "code",
   "execution_count": 1,
   "metadata": {},
   "outputs": [],
   "source": [
    "BIT_WIDTH = 8\n",
    "EPOCHS = 1\n",
    "Q_EPOCHS = 1\n",
    "BATCH_SIZE = 256\n",
    "MODEL_NAME = 'model'"
   ]
  },
  {
   "cell_type": "code",
   "execution_count": 2,
   "metadata": {},
   "outputs": [
    {
     "data": {
      "image/png": "[encoded data removed]",
      "text/plain": [
       "<Figure size 640x480 with 1 Axes>"
      ]
     },
     "metadata": {},
     "output_type": "display_data"
    }
   ],
   "source": [
    "import MNIST_database as mnist\n",
    "from matplotlib import pyplot as plt\n",
    "\n",
    "\n",
    "#Choose the final size of your image dataset\n",
    "size_final = 8\n",
    "\n",
    "# data_zoom = mnist.MNISTData(size_initial=20, size_final=size_final, color_depth=5, flat=True)\n",
    "data_zoom = mnist.MNISTData(size_initial=20, size_final=8, color_depth=8, flat=True)\n",
    "# todo: \n",
    "data_zoom.x_train = data_zoom.x_train*(2**(BIT_WIDTH))\n",
    "data_zoom.x_test = data_zoom.x_test*(2**(BIT_WIDTH))\n",
    "\n",
    "# x_train= data_zoom.x_train\n",
    "# y_train= data_zoom.y_train\n",
    "# x_test= data_zoom.x_test\n",
    "# y_test= data_zoom.y_test\n",
    "\n",
    "ax = plt.subplot(1, 1 , 1)\n",
    "plt.imshow(data_zoom.x_train[0].reshape(size_final,size_final), cmap='gray_r')\n",
    "ax.get_xaxis().set_visible(False)\n",
    "ax.get_yaxis().set_visible(False)"
   ]
  },
  {
   "cell_type": "code",
   "execution_count": null,
   "metadata": {},
   "outputs": [],
   "source": []
  },
  {
   "attachments": {},
   "cell_type": "markdown",
   "metadata": {},
   "source": [
    "# def model"
   ]
  },
  {
   "cell_type": "code",
   "execution_count": 3,
   "metadata": {},
   "outputs": [
    {
     "name": "stdout",
     "output_type": "stream",
     "text": [
      "Model: \"model\"\n",
      "_________________________________________________________________\n",
      " Layer (type)                Output Shape              Param #   \n",
      "=================================================================\n",
      " input_1 (InputLayer)        [(None, 64)]              0         \n",
      "                                                                 \n",
      " dense (Dense)               (None, 64)                4160      \n",
      "                                                                 \n",
      "=================================================================\n",
      "Total params: 4,160\n",
      "Trainable params: 4,160\n",
      "Non-trainable params: 0\n",
      "_________________________________________________________________\n"
     ]
    }
   ],
   "source": [
    "import numpy as np\n",
    "import tensorflow as tf\n",
    "from tensorflow.keras.layers import Input, Dense\n",
    "from tensorflow.keras.models import Model\n",
    "from callbacks import all_callbacks\n",
    "from matplotlib import pyplot as plt\n",
    "from sklearn.metrics import mean_squared_error\n",
    "import tensorflow_model_optimization as tfmot\n",
    "import os \n",
    "# import MNIST_database as mnist\n",
    "from matplotlib import pyplot as plt\n",
    "\n",
    "\n",
    "#Choose the final size of your image dataset\n",
    "size_final = 8\n",
    "# data_zoom = mnist.MNISTData(size_initial=20, size_final=size_final, color_depth=8, flat=True)\n",
    "\n",
    "class QAutoencoder:\n",
    "    def __init__(self, data: mnist.MNISTData, bit_width=8, EPOCHS=1, Q_EPOCHS=1, model_name='model'):\n",
    "        self.x_train = data.x_train\n",
    "        self.y_train = data.y_train\n",
    "        self.x_test = data.x_test\n",
    "        self.y_test = data.y_test\n",
    "        self.input_min = np.min(data.x_train)\n",
    "        self.input_max = np.max(data.x_train)\n",
    "        self.input_shape = (data.x_train.shape[-1],)\n",
    "        self.BIT_WIDTH = bit_width\n",
    "        self.EPOCHS = EPOCHS\n",
    "        self.Q_EPOCHS = Q_EPOCHS\n",
    "        self.MODEL_NAME = model_name\n",
    "        self.model = self.autoencoder_model_gen()\n",
    "        self.history = None\n",
    "        self.loss = None\n",
    "        self.float_model_predictions = None\n",
    "        self.path_to_model =    None\n",
    "\n",
    "        self.path_to_quantized_model = f'model/QAE_model{self.BIT_WIDTH}bits_mini/KERAS_check_best_model_mini.model'\n",
    "        self.q_aware_model = None\n",
    "        self.quantized_tflite_model = None\n",
    "        self.interpreter = None\n",
    "        self.input_details = None\n",
    "        self.output_details = None\n",
    "        self.quantized_model_predictions = None\n",
    "\n",
    "    def autoencoder_model_gen(self):\n",
    "\n",
    "        # Encoder\n",
    "        # encoder_input = Input(shape=self.input_shape)\n",
    "        # encoder_l1 = Dense(64, activation='relu')(encoder_input)\n",
    "        # encoder_l2 = Dense(32, activation='relu')(encoder_l1)\n",
    "        # encoder_l3 = Dense(16, activation='relu')(encoder_l2)\n",
    "        # encoder_output = Dense(2, activation='relu')(encoder_l3)\n",
    "        \n",
    "        # # Decoder\n",
    "        # decoder_l1 = Dense(16, activation='relu')(encoder_output)\n",
    "        # decoder_l2 = Dense(32, activation='relu')(decoder_l1)\n",
    "        # decoder_l3 = Dense(32, activation='relu')(decoder_l2)\n",
    "        \n",
    "        encoder_input = Input(shape=self.input_shape)\n",
    "        decoder_output = Dense(self.x_train.shape[-1], activation='linear')(encoder_input)\n",
    "\n",
    "\n",
    "        # # Encoder\n",
    "        # encoder_input = Input(shape=self.input_shape)\n",
    "        # encoder_l1 = Dense(64, activation='relu')(encoder_input)\n",
    "        # # encoder_l2 = Dense(50, activation='relu')(encoder_l1)\n",
    "        # # encoder_l3 = Dense(32, activation='relu')(encoder_l2)\n",
    "        # # encoder_l4 = Dense(16, activation='relu')(encoder_l3)\n",
    "        # # encoder_l5 = Dense(8, activation='relu')(encoder_l4)\n",
    "        # encoder_l6 = Dense(4, activation='relu')(encoder_l1)\n",
    "        # encoder_output = Dense(2, activation='relu')(encoder_l6)\n",
    "\n",
    "        # # Decoder\n",
    "        # decoder_l1 = Dense(16, activation='relu')(encoder_output)\n",
    "        # # decoder_l2 = Dense(32, activation='relu')(decoder_l1)\n",
    "        # # decoder_l3 = Dense(32, activation='relu')(decoder_l2)\n",
    "        # # decoder_output = Dense(y_train.shape[-1], activation='sigmoid')(decoder_l3) # classifier\n",
    "        # # decoder_output = Dense(\n",
    "        # #     self.x_train.shape[-1], activation='sigmoid')(decoder_l3)  # autoencoder\n",
    "        # # decoder_output = Dense(self.x_train.shape[-1], activation='linear')(decoder_l3)\n",
    "        # decoder_output = Dense(self.x_train.shape[-1], activation='linear')(decoder_l1)\n",
    "\n",
    "\n",
    "        # Model\n",
    "        model = Model(inputs=encoder_input, outputs=decoder_output)\n",
    "        # refactor the code above to use the functional AP\n",
    "\n",
    "        model.compile(optimizer='adam', loss='mse')\n",
    "        # model.compile(optimizer='adam', loss='binary_crossentropy') # classifier\n",
    "        return model\n",
    "\n",
    "    def fit_data(self, batch_size=256, epochs=Q_EPOCHS):\n",
    "        \"\"\"Write the fit function for the autoencoder. \n",
    "        Storing the fit history in self.history to be able to plot the fitting scores.\"\"\"\n",
    "\n",
    "        callbacks = all_callbacks(stop_patience=1000,\n",
    "                                  lr_factor=0.5,\n",
    "                                  lr_patience=10,\n",
    "                                  lr_epsilon=0.000001,\n",
    "                                  # min_delta=0.000001,\n",
    "                                  lr_cooldown=2,\n",
    "                                  lr_minimum=0.0000001,\n",
    "                                #   outputDir=f'model/QAE_model{self.BIT_WIDTH}bits/callbacks')\n",
    "        # callbacks.callbacks.append(pruning_callbacks.UpdatePruningStep())\n",
    "                                outputDir=f'model/callbacks_mini')\n",
    "\n",
    "        self.history = self.model.fit(self.x_train, self.x_train,\n",
    "                                      validation_data=(\n",
    "                                          self.x_test, self.x_test),\n",
    "                                      batch_size=batch_size, epochs=epochs,\n",
    "                                      shuffle=True, callbacks=callbacks.callbacks)\n",
    "        # self.model = strip_pruning(self.model)\n",
    "        self.loss = self.model.evaluate(self.x_test, self.x_test, verbose=0)\n",
    "        path_to_model =    f'model/model_{self.loss}loss/KERAS_check_best_model_mini.model'\n",
    "        self.model.save(\n",
    "            # f'model/QAE_model{self.BIT_WIDTH}bits/KERAS_check_best_model.h5')\n",
    "           path_to_model)\n",
    "        self.history = self.history.history\n",
    "        self.convert_to_Q_aware()\n",
    "\n",
    "    def plot_float_model(self, n=6):\n",
    "        \"\"\"Plot the float model\"\"\"\n",
    "        \n",
    "        plt.figure(figsize=(10, 3))\n",
    "        self.float_model_predictions = self.model.predict(self.x_test)\n",
    "        self.plot_model_predictions(\n",
    "            n,\n",
    "            self.float_model_predictions,\n",
    "            './images/float_model/reconstructed images {model_name}_mini.png',\n",
    "        )\n",
    "\n",
    "    def representative_dataset(self):\n",
    "        for data in self.x_train:\n",
    "            # Scale the data using min and max values\n",
    "            scaled_data = (data - self.input_min) / (self.input_max - self.input_min) * (2 ** (self.BIT_WIDTH - 1))\n",
    "            yield [np.array([scaled_data], dtype=np.float32)]\n",
    "\n",
    "    def convert_to_Q_aware(self):\n",
    "\n",
    "        # converter = tf.lite.TFLiteConverter.from_keras_model(self.model)\n",
    "        # converter.optimizations = [tf.lite.Optimize.DEFAULT]\n",
    "        # converter.representative_dataset = self.representative_dataset\n",
    "        # converter.target_spec.supported_ops = [\n",
    "        #     tf.lite.OpsSet.TFLITE_BUILTINS_INT8]\n",
    "        # converter.inference_input_type = tf.int8\n",
    "        # converter.inference_output_type = tf.int8\n",
    "\n",
    "        # self.q_aware_model = converter.convert()\n",
    "\n",
    "        # # Load the quantized model\n",
    "        # self.interpreter = tf.lite.Interpreter(\n",
    "        #     model_path='quantized_model.tflite')\n",
    "        # self.interpreter.allocate_tensors()\n",
    "        # ------------\n",
    "        quantize_model = tfmot.quantization.keras.quantize_model\n",
    "        self.q_aware_model = quantize_model(self.model)\n",
    "        self.q_aware_model.compile(optimizer='adam', loss='mse')\n",
    "        self.fit_data_Q_aware()\n",
    "        # loss = self.q_aware_model.evaluate(self.x_test, self.x_test, verbose=0)\n",
    "\n",
    "        # # Save the quantized model\n",
    "        # with open(f'quantized_model.tflite', 'wb') as f:\n",
    "        #     f.write(self.q_aware_model)\n",
    "\n",
    "        self.convert_to_tflite()\n",
    "\n",
    "    def fit_data_Q_aware(self, batch_size=256, epochs=Q_EPOCHS):\n",
    "        \"\"\"Write the fit function for the autoencoder. \n",
    "        Storing the fit history in self.history to be able to plot the fitting scores.\"\"\"\n",
    "\n",
    "        callbacks = all_callbacks(stop_patience=1000,\n",
    "                                  lr_factor=0.5,\n",
    "                                  lr_patience=10,\n",
    "                                  lr_epsilon=0.000001,\n",
    "                                  # min_delta=0.000001,\n",
    "                                  lr_cooldown=2,\n",
    "                                  lr_minimum=0.0000001,\n",
    "                                  outputDir=f'model/QAE_model{self.BIT_WIDTH}bits_mini/callbacks')\n",
    "        # callbacks.callbacks.append(pruning_callbacks.UpdatePruningStep())\n",
    "\n",
    "        self.history_Q_aware = self.q_aware_model.fit(self.x_train, self.x_train,\n",
    "                                      validation_data=(\n",
    "                                          self.x_test, self.x_test),\n",
    "                                      batch_size=batch_size, epochs=epochs,\n",
    "                                      shuffle=True, callbacks=callbacks.callbacks)\n",
    "        # self.model = strip_pruning(self.model)\n",
    "        \n",
    "        self.q_aware_model.save(\n",
    "            # f'model/QAE_model{self.BIT_WIDTH}bits/KERAS_check_best_model.h5')\n",
    "            self.path_to_quantized_model)\n",
    "        self.history_Q_aware = self.history_Q_aware.history\n",
    "        self.loss = self.q_aware_model.evaluate(self.x_test, self.x_test, verbose=0)\n",
    "        # self.convert_to_Q_aware()    \n",
    "\n",
    "    def convert_to_tflite(self):\n",
    "        converter = tf.lite.TFLiteConverter.from_keras_model(self.q_aware_model)\n",
    "        converter.optimizations = [tf.lite.Optimize.DEFAULT]\n",
    "        converter.representative_dataset = self.representative_dataset\n",
    "        converter.target_spec.supported_ops = [\n",
    "            tf.lite.OpsSet.TFLITE_BUILTINS_INT8]\n",
    "        converter.inference_input_type = tf.int8\n",
    "        converter.inference_output_type = tf.int8\n",
    "\n",
    "        self.quantized_tflite_model = converter.convert()\n",
    "\n",
    "        # Save the TensorFlow Lite model\n",
    "        with open(\"model_obj_tflite_model_mini.tflite\", \"wb\") as file:\n",
    "            file.write(self.quantized_tflite_model)\n",
    "\n",
    "        # Load the quantized model\n",
    "        # self.interpreter = tf.lite.Interpreter(model_path='quantized_model.tflite')\n",
    "        self.interpreter = tf.lite.Interpreter(model_content=self.quantized_tflite_model)\n",
    "\n",
    "        self.interpreter.allocate_tensors()\n",
    "\n",
    "        # Get input and output details\n",
    "        self.input_details = self.interpreter.get_input_details()\n",
    "        self.output_details = self.interpreter.get_output_details()\n",
    "        self.quantized_predictions()\n",
    "\n",
    "    def quantized_predictions(self, n=50):\n",
    "        quantized_model_predictions = []\n",
    "\n",
    "        for i in range(n):\n",
    "            # Prepare input data\n",
    "            # input_data = np.array(\n",
    "            #     [self.x_test[i]*(2**(self.BIT_WIDTH-1))], dtype=np.int8)\n",
    "            # input_data = np.array([(self.x_test[i] - self.input_min) / (self.input_max - self.input_min) * (2 ** (self.BIT_WIDTH - 1))], dtype=np.int8)  \n",
    "            input_data = np.array([(self.x_test[i] - self.input_min) / (self.input_max - self.input_min) * (2 ** (self.BIT_WIDTH))], dtype=np.int8)  \n",
    "\n",
    "            self.interpreter.set_tensor(\n",
    "                self.input_details[0]['index'], input_data)\n",
    "            # print(f\"input_data: {input_data}\")\n",
    "\n",
    "            # Run inference\n",
    "            self.interpreter.invoke()\n",
    "\n",
    "            # Get output\n",
    "            output_data = self.interpreter.get_tensor(self.output_details[0]['index'])\n",
    "            output_data = self.interpreter.get_tensor(\n",
    "                # self.output_details[0]['index']) / (2 ** (self.BIT_WIDTH - 1))\n",
    "                self.output_details[0]['index'])\n",
    "            # output_data = output_data * (self.input_max - self.input_min) / (2 ** (self.BIT_WIDTH - 1)) + self.input_min\n",
    "            # output_data = output_data / (2 ** (self.BIT_WIDTH - 1))\n",
    "            quantized_model_predictions.append(output_data)\n",
    "            # print(f\"output_data: {output_data}\")\n",
    "        \n",
    "        self.quantized_model_predictions = quantized_model_predictions\n",
    "        # self.compute_mse()\n",
    "\n",
    "    def plot_quantized_model(self, n=6):\n",
    "        \n",
    "        plt.figure(figsize=(10, 3))\n",
    "        self.plot_model_predictions(\n",
    "            n,\n",
    "            self.quantized_model_predictions,\n",
    "            './images/QAE/reconstructed images{model_name}_mini.png',\n",
    "        )\n",
    "\n",
    "    def plot_model_predictions(self, n, quantized_model_predictions, imgs_path):\n",
    "        img_size = int(np.sqrt(self.input_shape[0]))\n",
    "        for i in range(n):\n",
    "            ax = plt.subplot(2, n, i + 1)\n",
    "            self.plot_imgs(\n",
    "                self.x_test, i, img_size, ax\n",
    "            )\n",
    "            ax = plt.subplot(2, n, i + n + 1)\n",
    "            self.plot_imgs(\n",
    "                quantized_model_predictions, i, img_size, ax\n",
    "            )\n",
    "        if not os.path.exists(imgs_path):\n",
    "            os.makedirs(imgs_path)\n",
    "        plt.savefig(imgs_path.format(model_name=\" complete\"))\n",
    "        plt.show()\n",
    "\n",
    "    def plot_imgs(self, arg0, i, img_size, ax):\n",
    "        plt.imshow(arg0[i].reshape(img_size, img_size), cmap='gray_r')\n",
    "        ax.get_xaxis().set_visible(False)\n",
    "        ax.get_yaxis().set_visible(False)\n",
    "\n",
    "    def compute_mse(self):\n",
    "        mse = mean_squared_error(self.float_model_predictions, self.quantized_model_predictions)\n",
    "        print(f'Mean Squared Error between floating point and quantized model predictions: {mse}')\n",
    "        self.mse = mse\n",
    "\n",
    "model_obj = QAutoencoder(data_zoom, bit_width=BIT_WIDTH, model_name=MODEL_NAME, EPOCHS=EPOCHS, Q_EPOCHS=Q_EPOCHS)\n",
    "# model.fit(x_train, y_train, epochs=10, batch_size=32) # classifier\n",
    "model_obj.model.summary()\n",
    "# model.fit(x_train, x_train, epochs=EPOCHS, batch_size=BATCH_SIZE) #autoencoder\n"
   ]
  },
  {
   "attachments": {},
   "cell_type": "markdown",
   "metadata": {},
   "source": [
    "# fit"
   ]
  },
  {
   "cell_type": "code",
   "execution_count": 4,
   "metadata": {},
   "outputs": [
    {
     "name": "stdout",
     "output_type": "stream",
     "text": [
      "WARNING:tensorflow:`epsilon` argument is deprecated and will be removed, use `min_delta` instead.\n",
      "WARNING:tensorflow:`period` argument is deprecated. Please use `save_freq` to specify the frequency in number of batches seen.\n",
      "  1/235 [..............................] - ETA: 2:12 - loss: 20516.0957WARNING:tensorflow:Callback method `on_train_batch_end` is slow compared to the batch time (batch time: 0.0016s vs `on_train_batch_end` time: 0.0025s). Check your callbacks.\n",
      "228/235 [============================>.] - ETA: 0s - loss: 7802.3677\n",
      "***callbacks***\n",
      "saving losses to model/callbacks_mini\\losses.log\n",
      "\n",
      "Epoch 00001: val_loss improved from inf to 3900.66602, saving model to model/callbacks_mini\\KERAS_check_best_model.model\n",
      "INFO:tensorflow:Assets written to: model/callbacks_mini\\KERAS_check_best_model.model\\assets\n",
      "\n",
      "Epoch 00001: val_loss improved from inf to 3900.66602, saving model to model/callbacks_mini\\KERAS_check_best_model_weights.h5\n",
      "\n",
      "Epoch 00001: saving model to model/callbacks_mini\\KERAS_check_model_last.model\n",
      "INFO:tensorflow:Assets written to: model/callbacks_mini\\KERAS_check_model_last.model\\assets\n",
      "\n",
      "Epoch 00001: saving model to model/callbacks_mini\\KERAS_check_model_last_weights.h5\n",
      "\n",
      "***callbacks end***\n",
      "\n",
      "235/235 [==============================] - 2s 8ms/step - loss: 7698.2793 - val_loss: 3900.6660 - lr: 0.0010\n",
      "INFO:tensorflow:Assets written to: model/model_3900.666015625loss/KERAS_check_best_model_mini.model\\assets\n",
      "WARNING:tensorflow:`epsilon` argument is deprecated and will be removed, use `min_delta` instead.\n",
      "WARNING:tensorflow:`period` argument is deprecated. Please use `save_freq` to specify the frequency in number of batches seen.\n",
      "  1/235 [..............................] - ETA: 2:57 - loss: 11184.5840WARNING:tensorflow:Callback method `on_train_batch_end` is slow compared to the batch time (batch time: 0.0020s vs `on_train_batch_end` time: 0.0040s). Check your callbacks.\n",
      "225/235 [===========================>..] - ETA: 0s - loss: 7455.7334\n",
      "***callbacks***\n",
      "saving losses to model/QAE_model8bits_mini/callbacks\\losses.log\n",
      "\n",
      "Epoch 00001: val_loss improved from inf to 4746.37646, saving model to model/QAE_model8bits_mini/callbacks\\KERAS_check_best_model.model\n"
     ]
    },
    {
     "name": "stderr",
     "output_type": "stream",
     "text": [
      "WARNING:absl:Found untraced functions such as dense_layer_call_fn, dense_layer_call_and_return_conditional_losses, dense_layer_call_fn, dense_layer_call_and_return_conditional_losses, dense_layer_call_and_return_conditional_losses while saving (showing 5 of 5). These functions will not be directly callable after loading.\n"
     ]
    },
    {
     "name": "stdout",
     "output_type": "stream",
     "text": [
      "INFO:tensorflow:Assets written to: model/QAE_model8bits_mini/callbacks\\KERAS_check_best_model.model\\assets\n"
     ]
    },
    {
     "name": "stderr",
     "output_type": "stream",
     "text": [
      "INFO:tensorflow:Assets written to: model/QAE_model8bits_mini/callbacks\\KERAS_check_best_model.model\\assets\n"
     ]
    },
    {
     "name": "stdout",
     "output_type": "stream",
     "text": [
      "\n",
      "Epoch 00001: val_loss improved from inf to 4746.37646, saving model to model/QAE_model8bits_mini/callbacks\\KERAS_check_best_model_weights.h5\n",
      "\n",
      "Epoch 00001: saving model to model/QAE_model8bits_mini/callbacks\\KERAS_check_model_last.model\n"
     ]
    },
    {
     "name": "stderr",
     "output_type": "stream",
     "text": [
      "WARNING:absl:Found untraced functions such as dense_layer_call_fn, dense_layer_call_and_return_conditional_losses, dense_layer_call_fn, dense_layer_call_and_return_conditional_losses, dense_layer_call_and_return_conditional_losses while saving (showing 5 of 5). These functions will not be directly callable after loading.\n"
     ]
    },
    {
     "name": "stdout",
     "output_type": "stream",
     "text": [
      "INFO:tensorflow:Assets written to: model/QAE_model8bits_mini/callbacks\\KERAS_check_model_last.model\\assets\n"
     ]
    },
    {
     "name": "stderr",
     "output_type": "stream",
     "text": [
      "INFO:tensorflow:Assets written to: model/QAE_model8bits_mini/callbacks\\KERAS_check_model_last.model\\assets\n"
     ]
    },
    {
     "name": "stdout",
     "output_type": "stream",
     "text": [
      "\n",
      "Epoch 00001: saving model to model/QAE_model8bits_mini/callbacks\\KERAS_check_model_last_weights.h5\n",
      "\n",
      "***callbacks end***\n",
      "\n",
      "235/235 [==============================] - 4s 15ms/step - loss: 7345.4736 - val_loss: 4746.3765 - lr: 0.0010\n"
     ]
    },
    {
     "name": "stderr",
     "output_type": "stream",
     "text": [
      "WARNING:absl:Found untraced functions such as dense_layer_call_fn, dense_layer_call_and_return_conditional_losses, dense_layer_call_fn, dense_layer_call_and_return_conditional_losses, dense_layer_call_and_return_conditional_losses while saving (showing 5 of 5). These functions will not be directly callable after loading.\n"
     ]
    },
    {
     "name": "stdout",
     "output_type": "stream",
     "text": [
      "INFO:tensorflow:Assets written to: model/QAE_model8bits_mini/KERAS_check_best_model_mini.model\\assets\n"
     ]
    },
    {
     "name": "stderr",
     "output_type": "stream",
     "text": [
      "INFO:tensorflow:Assets written to: model/QAE_model8bits_mini/KERAS_check_best_model_mini.model\\assets\n",
      "WARNING:absl:Found untraced functions such as dense_layer_call_fn, dense_layer_call_and_return_conditional_losses, dense_layer_call_fn, dense_layer_call_and_return_conditional_losses, dense_layer_call_and_return_conditional_losses while saving (showing 5 of 5). These functions will not be directly callable after loading.\n"
     ]
    },
    {
     "name": "stdout",
     "output_type": "stream",
     "text": [
      "INFO:tensorflow:Assets written to: C:\\Users\\luisa\\AppData\\Local\\Temp\\tmpdkg3l1ws\\assets\n"
     ]
    },
    {
     "name": "stderr",
     "output_type": "stream",
     "text": [
      "INFO:tensorflow:Assets written to: C:\\Users\\luisa\\AppData\\Local\\Temp\\tmpdkg3l1ws\\assets\n"
     ]
    }
   ],
   "source": [
    "model_obj.fit_data(epochs=EPOCHS)  # batch_size=BATCH_SIZE, epochs=EPOCHS)\n"
   ]
  },
  {
   "attachments": {},
   "cell_type": "markdown",
   "metadata": {},
   "source": [
    "# Save objects"
   ]
  },
  {
   "cell_type": "code",
   "execution_count": 5,
   "metadata": {},
   "outputs": [
    {
     "data": {
      "text/plain": [
       "4746.3759765625"
      ]
     },
     "execution_count": 5,
     "metadata": {},
     "output_type": "execute_result"
    }
   ],
   "source": [
    "model_obj.loss"
   ]
  },
  {
   "cell_type": "code",
   "execution_count": 6,
   "metadata": {},
   "outputs": [
    {
     "data": {
      "image/png": "[encoded data removed]",
      "text/plain": [
       "<Figure size 1000x300 with 12 Axes>"
      ]
     },
     "metadata": {},
     "output_type": "display_data"
    }
   ],
   "source": [
    "model_obj.plot_float_model()"
   ]
  },
  {
   "cell_type": "code",
   "execution_count": 7,
   "metadata": {},
   "outputs": [
    {
     "data": {
      "image/png": "[encoded data removed]",
      "text/plain": [
       "<Figure size 1000x300 with 12 Axes>"
      ]
     },
     "metadata": {},
     "output_type": "display_data"
    }
   ],
   "source": [
    "# obj = model_obj\n",
    "# plot_quantized_model(obj, n=6)\n",
    "model_obj.plot_quantized_model(n=6)"
   ]
  },
  {
   "attachments": {},
   "cell_type": "markdown",
   "metadata": {},
   "source": [
    "## saving as pickle"
   ]
  },
  {
   "cell_type": "code",
   "execution_count": 8,
   "metadata": {},
   "outputs": [
    {
     "data": {
      "text/plain": [
       "'c:\\\\Users\\\\luisa\\\\OneDrive\\\\Documentos\\\\GitHub\\\\Autoencoder-for-FPGA\\\\Qaware\\\\model_obj_tf_model'"
      ]
     },
     "execution_count": 8,
     "metadata": {},
     "output_type": "execute_result"
    }
   ],
   "source": [
    "import os\n",
    "\n",
    "MODEL_DIR = os.path.abspath(\"model/model_obj_tf_model\")\n",
    "# ASSETS_DIR = os.path.join(MODEL_DIR, \"assets\")\n",
    "\n",
    "if not os.path.exists(MODEL_DIR):\n",
    "    os.makedirs(MODEL_DIR)\n",
    "\n",
    "# if not os.path.exists(ASSETS_DIR):\n",
    "#     os.makedirs(ASSETS_DIR)\n",
    "MODEL_DIR"
   ]
  },
  {
   "cell_type": "code",
   "execution_count": 9,
   "metadata": {},
   "outputs": [
    {
     "data": {
      "text/plain": [
       "'c:\\\\Users\\\\luisa\\\\OneDrive\\\\Documentos\\\\GitHub\\\\Autoencoder-for-FPGA\\\\Qaware\\\\model_obj_tf_model\\\\tf_model'"
      ]
     },
     "execution_count": 9,
     "metadata": {},
     "output_type": "execute_result"
    }
   ],
   "source": [
    "os.path.join(MODEL_DIR, \"tf_model\")"
   ]
  },
  {
   "cell_type": "code",
   "execution_count": null,
   "metadata": {},
   "outputs": [],
   "source": [
    "import pickle\n",
    "MINI = True\n",
    "\n",
    "if MINI:\n",
    "    mini = \"_mini\"\n",
    "else:\n",
    "    mini = \"\"\n",
    "\n",
    "def save_objects(model_obj):\n",
    "    # Save the Keras model\n",
    "    model_obj.model.save(f'model/model_obj_keras_model{mini}.h5')\n",
    "\n",
    "    # Save the .tflite model\n",
    "    with open(f\"model/model_obj_tflite_model{mini}.tflite\", \"wb\") as file:\n",
    "        file.write(model_obj.quantized_tflite_model)\n",
    "\n",
    "    # Save other attributes\n",
    "    attrs_to_save = {\n",
    "        'x_train': model_obj.x_train,\n",
    "        # 'y_train': model_obj.y_train,\n",
    "        'x_test': model_obj.x_test,\n",
    "        'y_test': model_obj.y_test,\n",
    "        'input_shape': model_obj.input_shape,\n",
    "        'BIT_WIDTH': model_obj.BIT_WIDTH,\n",
    "        'EPOCHS': model_obj.EPOCHS,\n",
    "        'Q_EPOCHS': model_obj.Q_EPOCHS,\n",
    "        'MODEL_NAME': model_obj.MODEL_NAME,\n",
    "        'history': model_obj.history,\n",
    "        'loss': model_obj.loss,\n",
    "        'float_model_predictions': model_obj.float_model_predictions,\n",
    "        'quantized_model_predictions': model_obj.quantized_model_predictions,\n",
    "        'input_min': model_obj.input_min,\n",
    "        'input_max': model_obj.input_max,\n",
    "        'path_to_model': model_obj.path_to_model,\n",
    "        'path_to_quantized_model': model_obj.path_to_quantized_model\n",
    "        # 'history_Q_aware': model_obj.history_Q_aware,\n",
    "        # 'mse': model_obj.mse,\n",
    "    }\n",
    "    with open(f'model/model_obj_attributes{mini}.pickle', 'wb') as f:\n",
    "        pickle.dump(attrs_to_save, f)\n",
    "\n",
    "\n",
    "\n"
   ]
  },
  {
   "cell_type": "code",
   "execution_count": 11,
   "metadata": {},
   "outputs": [],
   "source": [
    "# Save the objects of model_obj\n",
    "save_objects(model_obj)"
   ]
  },
  {
   "cell_type": "code",
   "execution_count": null,
   "metadata": {},
   "outputs": [],
   "source": [
    "import pickle\n",
    "\n",
    "def load_objects():\n",
    "    \n",
    "    # model_obj.model.save('model_obj_keras_model.h5')\n",
    "    # Load the TensorFlow model\n",
    "    loaded_model = tf.keras.models.load_model(os.path.join(MODEL_DIR, \"tf_model\"))\n",
    "\n",
    "    # Load the Keras model\n",
    "    loaded_keras_model = tf.keras.models.load_model('model/model_obj_keras_model.h5')\n",
    "\n",
    "    # Load the .tflite model\n",
    "    with open(\"model/model_obj_tflite_model.tflite\", \"rb\") as file:\n",
    "        loaded_tflite_model = file.read()\n",
    "\n",
    "    # Load other attributes\n",
    "    with open('model/model_obj_attributes.pickle', 'rb') as f:\n",
    "        loaded_attributes = pickle.load(f)\n",
    "    \n",
    "    # Create a new QAutoencoder object and set the attributes\n",
    "    loaded_model_obj = QAutoencoder(data_zoom, bit_width=loaded_attributes['BIT_WIDTH'], model_name=loaded_attributes['MODEL_NAME'],\n",
    "                                    EPOCHS=loaded_attributes['EPOCHS'], Q_EPOCHS=loaded_attributes['Q_EPOCHS'])\n",
    "    \n",
    "    loaded_model_obj.model = loaded_keras_model\n",
    "    loaded_model_obj.quantized_tflite_model = loaded_tflite_model\n",
    "    loaded_model_obj.input_shape = loaded_attributes['input_shape']\n",
    "    loaded_model_obj.x_train = loaded_attributes['x_train']\n",
    "    # loaded_model_obj.y_train = loaded_attributes['y_train']\n",
    "    loaded_model_obj.x_test = loaded_attributes['x_test']\n",
    "    loaded_model_obj.y_test = loaded_attributes['y_test']\n",
    "    loaded_model_obj.model = loaded_model\n",
    "    loaded_model_obj.history = loaded_attributes['history']\n",
    "    loaded_model_obj.loss = loaded_attributes['loss']\n",
    "    loaded_model_obj.float_model_predictions = loaded_attributes['float_model_predictions']\n",
    "    loaded_model_obj.quantized_model_predictions = loaded_attributes['quantized_model_predictions']\n",
    "    loaded_model_obj.interpreter = loaded_tflite_model\n",
    "    loaded_model_obj.input_min = loaded_attributes['input_min']\n",
    "    loaded_model_obj.input_max = loaded_attributes['input_max']\n",
    "    loaded_model_obj.path_to_model = loaded_attributes['path_to_model']\n",
    "    loaded_model_obj.path_to_quantized_model = loaded_attributes['path_to_quantized_model']\n",
    "    # loaded_model_obj.mse = loaded_attributes['mse']\n",
    "\n",
    "\n",
    "\n",
    "    # Recreate the TFLite interpreter\n",
    "    loaded_model_obj.interpreter = tf.lite.Interpreter(model_content=loaded_tflite_model)\n",
    "    loaded_model_obj.interpreter.allocate_tensors()\n",
    "    loaded_model_obj.input_details = loaded_model_obj.interpreter.get_input_details()\n",
    "    loaded_model_obj.output_details = loaded_model_obj.interpreter.get_output_details()\n",
    "    # loaded_model_obj.convert_to_Q_aware()\n",
    "\n",
    "    return loaded_model_obj"
   ]
  },
  {
   "cell_type": "code",
   "execution_count": null,
   "metadata": {},
   "outputs": [],
   "source": [
    "# Load the objects and create a new model_obj\n",
    "loaded_model_obj = load_objects()"
   ]
  },
  {
   "cell_type": "code",
   "execution_count": null,
   "metadata": {},
   "outputs": [
    {
     "data": {
      "text/plain": [
       "(60000, 64)"
      ]
     },
     "execution_count": 38,
     "metadata": {},
     "output_type": "execute_result"
    }
   ],
   "source": [
    "loaded_model_obj.x_train.shape"
   ]
  },
  {
   "cell_type": "code",
   "execution_count": null,
   "metadata": {},
   "outputs": [
    {
     "name": "stdout",
     "output_type": "stream",
     "text": [
      "Model: \"model\"\n",
      "_________________________________________________________________\n",
      " Layer (type)                Output Shape              Param #   \n",
      "=================================================================\n",
      " input_1 (InputLayer)        [(None, 64)]              0         \n",
      "                                                                 \n",
      " dense (Dense)               (None, 64)                4160      \n",
      "                                                                 \n",
      " dense_1 (Dense)             (None, 32)                2080      \n",
      "                                                                 \n",
      " dense_2 (Dense)             (None, 16)                528       \n",
      "                                                                 \n",
      " dense_3 (Dense)             (None, 2)                 34        \n",
      "                                                                 \n",
      " dense_4 (Dense)             (None, 16)                48        \n",
      "                                                                 \n",
      " dense_5 (Dense)             (None, 32)                544       \n",
      "                                                                 \n",
      " dense_6 (Dense)             (None, 32)                1056      \n",
      "                                                                 \n",
      " dense_7 (Dense)             (None, 64)                2112      \n",
      "                                                                 \n",
      "=================================================================\n",
      "Total params: 10,562\n",
      "Trainable params: 10,562\n",
      "Non-trainable params: 0\n",
      "_________________________________________________________________\n"
     ]
    }
   ],
   "source": [
    "loaded_model_obj.model.summary()"
   ]
  },
  {
   "cell_type": "code",
   "execution_count": null,
   "metadata": {},
   "outputs": [],
   "source": [
    "# loaded_model_obj.quantized_tflite_model"
   ]
  },
  {
   "attachments": {},
   "cell_type": "markdown",
   "metadata": {},
   "source": [
    "# Clone and fine-tune pre-trained model with quantization aware training\n"
   ]
  },
  {
   "cell_type": "code",
   "execution_count": null,
   "metadata": {},
   "outputs": [
    {
     "data": {
      "text/plain": [
       "<keras.engine.functional.Functional at 0x1c8c767b880>"
      ]
     },
     "execution_count": 41,
     "metadata": {},
     "output_type": "execute_result"
    }
   ],
   "source": [
    "model_obj.model"
   ]
  },
  {
   "cell_type": "code",
   "execution_count": null,
   "metadata": {},
   "outputs": [],
   "source": [
    "# import tensorflow_model_optimization as tfmot\n",
    "# model = model_obj.model\n",
    "# quantize_model = tfmot.quantization.keras.quantize_model\n",
    "\n",
    "# # q_aware stands for for quantization aware.\n",
    "# q_aware_model = quantize_model(model)\n",
    "\n",
    "# # `quantize_model` requires a recompile.\n",
    "# # q_aware_model.compile(optimizer='adam',\n",
    "# #               loss=tf.keras.losses.SparseCategoricalCrossentropy(from_logits=True),\n",
    "# #               metrics=['accuracy'])\n",
    "# q_aware_model.compile(optimizer='adam', loss='mse')\n",
    "\n",
    "# q_aware_model.summary()"
   ]
  },
  {
   "attachments": {},
   "cell_type": "markdown",
   "metadata": {},
   "source": [
    "### Train and evaluate the model against baseline"
   ]
  },
  {
   "attachments": {},
   "cell_type": "markdown",
   "metadata": {},
   "source": [
    "To demonstrate fine tuning after training the model for just an epoch, fine tune with quantization aware training on a subset of the training data."
   ]
  },
  {
   "cell_type": "code",
   "execution_count": null,
   "metadata": {},
   "outputs": [
    {
     "data": {
      "text/plain": [
       "array([[0.        , 0.        , 0.        , ..., 0.        , 0.        ,\n",
       "        0.        ],\n",
       "       [0.        , 0.        , 0.        , ..., 0.        , 0.        ,\n",
       "        0.        ],\n",
       "       [0.        , 0.        , 0.        , ..., 0.94140625, 0.        ,\n",
       "        0.        ],\n",
       "       ...,\n",
       "       [0.        , 0.        , 0.        , ..., 0.        , 0.        ,\n",
       "        0.        ],\n",
       "       [0.        , 0.        , 0.        , ..., 0.00390625, 0.        ,\n",
       "        0.        ],\n",
       "       [0.        , 0.        , 0.        , ..., 0.        , 0.        ,\n",
       "        0.        ]])"
      ]
     },
     "execution_count": 43,
     "metadata": {},
     "output_type": "execute_result"
    }
   ],
   "source": [
    "model_obj.x_train[0:1000]"
   ]
  },
  {
   "cell_type": "code",
   "execution_count": null,
   "metadata": {},
   "outputs": [],
   "source": [
    "# train_images_subset = model_obj.x_train[0:1000] # out of 60000\n",
    "# train_labels_subset = model_obj.x_train[0:1000]\n",
    "\n",
    "# q_aware_model.fit(train_images_subset, train_labels_subset,\n",
    "#                   batch_size=500, epochs=1)"
   ]
  },
  {
   "cell_type": "code",
   "execution_count": null,
   "metadata": {},
   "outputs": [],
   "source": [
    "# baseline_model_accuracy = model_obj.model.evaluate(\n",
    "#     model_obj.x_test, model_obj.x_test, verbose=0)\n",
    "\n",
    "# q_aware_model_accuracy = model_obj.q_aware_model.evaluate(\n",
    "#    model_obj.x_test, model_obj.x_test, verbose=0)\n",
    "\n",
    "# print('Baseline test accuracy:', baseline_model_accuracy)\n",
    "# print('Quant test accuracy:', q_aware_model_accuracy)"
   ]
  },
  {
   "attachments": {},
   "cell_type": "markdown",
   "metadata": {},
   "source": [
    "## Create quantized model for TFLite backend"
   ]
  },
  {
   "attachments": {},
   "cell_type": "markdown",
   "metadata": {},
   "source": [
    "After this, you have an actually quantized model with int8 weights and uint8 activations."
   ]
  },
  {
   "cell_type": "code",
   "execution_count": null,
   "metadata": {},
   "outputs": [],
   "source": [
    "# converter = tf.lite.TFLiteConverter.from_keras_model(model_obj.q_aware_model)\n",
    "# converter.optimizations = [tf.lite.Optimize.DEFAULT]\n",
    "\n",
    "# q_aware_model = converter.convert()"
   ]
  },
  {
   "attachments": {},
   "cell_type": "markdown",
   "metadata": {},
   "source": [
    "## See persistence of accuracy from TF to TFLite"
   ]
  },
  {
   "attachments": {},
   "cell_type": "markdown",
   "metadata": {},
   "source": [
    "Define a helper function to evaluate the TF Lite model on the test dataset."
   ]
  },
  {
   "cell_type": "code",
   "execution_count": null,
   "metadata": {},
   "outputs": [],
   "source": [
    "import numpy as np\n",
    "\n",
    "def evaluate_model(interpreter, x_test, n=6):\n",
    "#   input_index = interpreter.get_input_details()[0][\"index\"]\n",
    "#   output_index = interpreter.get_output_details()[0][\"index\"]\n",
    "    input_details = interpreter.get_input_details()\n",
    "    output_details = interpreter.get_output_details()\n",
    "\n",
    "#   # Run predictions on every image in the \"test\" dataset.\n",
    "#   prediction_digits = []\n",
    "#   for i, test_image in enumerate(test_images):\n",
    "#     if i % 1000 == 0:\n",
    "#       print('Evaluated on {n} results so far.'.format(n=i))\n",
    "#     # Pre-processing: add batch dimension and convert to float32 to match with\n",
    "#     # the model's input data format.\n",
    "#     test_image = np.expand_dims(test_image, axis=0).astype(np.float32)\n",
    "#     interpreter.set_tensor(input_index, test_image)\n",
    "\n",
    "#     # Run inference.\n",
    "#     interpreter.invoke()\n",
    "\n",
    "#     # Post-processing: remove batch dimension and find the digit with highest\n",
    "#     # probability.\n",
    "#     output = interpreter.tensor(output_index)\n",
    "#     digit = np.argmax(output()[0])\n",
    "#     prediction_digits.append(digit)\n",
    "\n",
    "#   print('\\n')\n",
    "#   # Compare prediction results with ground truth labels to calculate accuracy.\n",
    "#   prediction_digits = np.array(prediction_digits)\n",
    "#   accuracy = (prediction_digits == test_labels).mean()\n",
    "#   return accuracy\n",
    "\n",
    "    quantized_model_predictions = []\n",
    "\n",
    "    for i in range(n):\n",
    "        # Prepare input data\n",
    "        # input_data = np.array(\n",
    "        #     [x_test[i]*(2**(BIT_WIDTH-1))], dtype=np.int8)\n",
    "        # input_data = np.array([(x_test[i] - input_min) / (input_max - input_min) * (2 ** (BIT_WIDTH - 1))], dtype=np.int8)  \n",
    "        input_data = np.expand_dims(x_test[i], axis=0).astype(np.float32)\n",
    "\n",
    "\n",
    "        interpreter.set_tensor(\n",
    "            input_details[0]['index'], input_data)\n",
    "        # print(f\"input_data: {input_data}\")\n",
    "        # Run inference\n",
    "        interpreter.invoke()\n",
    "\n",
    "        # Get output\n",
    "        output_data = interpreter.get_tensor(output_details[0]['index'])\n",
    "        # output_data = interpreter.get_tensor(\n",
    "        #     output_details[0]['index']) / (2 ** (BIT_WIDTH - 1))\n",
    "        # output_data = output_data * (input_max - input_min) / (2 ** (BIT_WIDTH - 1)) + input_min\n",
    "        # output_data = output_data / (2 ** (BIT_WIDTH - 1))\n",
    "        # print(f\"output_data: {output_data}\")\n",
    "        quantized_model_predictions.append(output_data)\n",
    "    accuracy = (input_data == quantized_model_predictions).mean()\n",
    "    \n",
    "    # quantized_model_predictions = quantized_model_predictions\n",
    "    return accuracy"
   ]
  },
  {
   "attachments": {},
   "cell_type": "markdown",
   "metadata": {},
   "source": [
    "You evaluate the quantized model and see that the accuracy from TensorFlow persists to the TFLite backend."
   ]
  },
  {
   "cell_type": "code",
   "execution_count": null,
   "metadata": {},
   "outputs": [],
   "source": [
    "# interpreter = tf.lite.Interpreter(model_content=q_aware_model)\n",
    "# interpreter.allocate_tensors()\n",
    "\n",
    "# # test_accuracy = evaluate_model(interpreter, test_images=model_obj.x_test, test_labels=model_obj.x_test)\n",
    "# test_accuracy = evaluate_model(interpreter, model_obj.x_test, n=6)\n",
    "\n",
    "# print('Quant TF test accuracy:', q_aware_model_accuracy)\n",
    "# print('Quant TFLite test_accuracy:', test_accuracy)"
   ]
  },
  {
   "cell_type": "code",
   "execution_count": null,
   "metadata": {},
   "outputs": [
    {
     "data": {
      "text/plain": [
       "[<keras.engine.input_layer.InputLayer at 0x1c8b21bc520>,\n",
       " <tensorflow_model_optimization.python.core.quantization.keras.quantize_layer.QuantizeLayer at 0x1c8b21bcc70>,\n",
       " <tensorflow_model_optimization.python.core.quantization.keras.quantize_wrapper.QuantizeWrapperV2 at 0x1c8af1ac880>,\n",
       " <tensorflow_model_optimization.python.core.quantization.keras.quantize_wrapper.QuantizeWrapperV2 at 0x1c8af254c10>,\n",
       " <tensorflow_model_optimization.python.core.quantization.keras.quantize_wrapper.QuantizeWrapperV2 at 0x1c8aeda0fd0>,\n",
       " <tensorflow_model_optimization.python.core.quantization.keras.quantize_wrapper.QuantizeWrapperV2 at 0x1c8b21bc400>,\n",
       " <tensorflow_model_optimization.python.core.quantization.keras.quantize_wrapper.QuantizeWrapperV2 at 0x1c8b1d82820>]"
      ]
     },
     "execution_count": 49,
     "metadata": {},
     "output_type": "execute_result"
    }
   ],
   "source": [
    "model_obj.q_aware_model.layers"
   ]
  },
  {
   "cell_type": "code",
   "execution_count": null,
   "metadata": {},
   "outputs": [
    {
     "name": "stdout",
     "output_type": "stream",
     "text": [
      "tf.Tensor(\n",
      "[[-12.541695  -39.018612   48.773262  ... -12.541695   20.20607\n",
      "   60.618202 ]\n",
      " [ -9.754654  -13.238457    3.4838028 ...  13.238457  -49.470028\n",
      "   45.98623  ]\n",
      " [ -2.0902786 -18.812546  -46.682983  ...  27.870438  -58.52792\n",
      "   -4.877327 ]\n",
      " ...\n",
      " [ -7.6643677 -58.52792   -50.86355   ... -26.476913   48.0765\n",
      "   49.470024 ]\n",
      " [ -6.270851    6.967613   35.534813  ... -25.083393  -36.231567\n",
      "  -41.805656 ]\n",
      " [-50.86355    22.296349   59.92144   ... -24.386635  -41.805656\n",
      "   49.470024 ]], shape=(64, 64), dtype=float32)\n",
      "tf.Tensor(\n",
      "[[ 34.464035  -55.272507  -42.26721   -28.611649 ]\n",
      " [ 57.873573   31.862976   51.37092   -13.005295 ]\n",
      " [ 24.710068   30.562447   -7.1529083 -48.11959  ]\n",
      " [-72.82965    56.573036   -5.202118   68.27781  ]\n",
      " [ -4.5518494  29.261917  -70.22859   -22.759266 ]\n",
      " [ 13.655563   34.464035  -39.66615    16.90689  ]\n",
      " [ 68.27781    -4.5518494 -68.2778     18.857681 ]\n",
      " [ 11.054504  -46.81906   -32.513237   47.469337 ]\n",
      " [ 30.562447   57.873573   40.966682  -73.47992  ]\n",
      " [-26.01059    81.283104  -52.671448  -59.824356 ]\n",
      " [-37.06509    76.080986  -12.355026   -7.803177 ]\n",
      " [ 35.764565   54.622246  -66.97727   -46.168797 ]\n",
      " [-16.906883  -27.961384    7.8031845 -78.68204  ]\n",
      " [  9.753975   18.20742    64.37621    41.61695  ]\n",
      " [ 17.557152   -9.103706   11.054504  -40.316414 ]\n",
      " [ 68.27781   -20.158203  -72.82965   -55.272507 ]\n",
      " [-68.2778    -42.917473  -26.660854  -52.671448 ]\n",
      " [ 23.409538  -32.513237   -9.103706  -67.62753  ]\n",
      " [-55.922768  -25.360325   22.109009   70.87887  ]\n",
      " [-53.32171    41.61695    -2.601059  -17.557144 ]\n",
      " [ 18.20742   -64.37621   -61.775154  -66.327    ]\n",
      " [ 42.26722   -48.11959    22.75927   -66.97727  ]\n",
      " [-76.08098   -44.868267  -37.715355   -7.803177 ]\n",
      " [-74.13018    42.91748     1.950798   63.07569  ]\n",
      " [ 72.17939   -14.305824   -1.9507904 -32.513237 ]\n",
      " [-35.114296  -43.567738   50.720665   -7.803177 ]\n",
      " [  5.2021255  57.873573  -20.808472  -14.305824 ]\n",
      " [ 53.321724  -45.51853   -48.769855   44.21801  ]\n",
      " [ 22.109009  -53.32171    20.80848   -30.562443 ]\n",
      " [  7.152916  -77.38151    46.1688     46.81907  ]\n",
      " [-36.414825    2.6010666  29.912186   71.52914  ]\n",
      " [ 25.360329   46.1688    -63.075684  -73.47992  ]\n",
      " [ 17.557152   44.86828    37.715363  -50.070385 ]\n",
      " [ 63.07569    73.47993   -16.256615   59.824364 ]\n",
      " [ 48.76986   -57.223297  -65.67674    23.409538 ]\n",
      " [ 65.02648    40.966682  -59.174095   47.469337 ]\n",
      " [-77.38151    45.518547    1.3005371   7.152916 ]\n",
      " [-13.005295   57.873573   48.76986   -49.42012  ]\n",
      " [ 18.857681  -55.272507  -68.2778     20.80848  ]\n",
      " [-77.38151    -9.103706  -44.868267   -3.25132  ]\n",
      " [-31.862972   32.513245  -23.40953    50.720665 ]\n",
      " [-57.223297   24.0598      5.2021255  31.862976 ]\n",
      " [-66.97727   -13.655556   28.611656   26.010597 ]\n",
      " [ 39.666153   22.109009   68.27781   -53.32171  ]\n",
      " [ 66.97727   -16.906883   70.2286     13.655563 ]\n",
      " [ 57.873573  -22.759266  -22.109001  -25.360325 ]\n",
      " [ -2.601059  -48.769855   -5.202118   11.054504 ]\n",
      " [-70.22859    68.92808   -42.26721   -28.611649 ]\n",
      " [-34.46403    81.283104   27.311127  -65.67674  ]\n",
      " [ 28.611656    7.8031845 -53.971977   29.912186 ]\n",
      " [-46.168797   52.021187  -16.906883   55.922783 ]\n",
      " [ 13.655563   46.81907    34.464035   51.37092  ]\n",
      " [-71.52912     1.950798   -5.202118  -26.01059  ]\n",
      " [ 14.305832  -14.956085  -57.223297   37.715363 ]\n",
      " [-18.857674   38.365623  -70.87886   -24.059795 ]\n",
      " [ 65.02648   -61.775154  -49.42012   -48.11959  ]\n",
      " [-36.414825   16.90689   -44.218002   65.02648  ]\n",
      " [-59.174095   82.583626  -71.52912    18.20742  ]\n",
      " [ 35.114304  -24.059795  -33.1635     25.360329 ]\n",
      " [ 70.2286     46.1688     -8.453438  -52.02118  ]\n",
      " [-51.370914   69.57833    -9.753967  -42.917473 ]\n",
      " [ 18.20742    52.671455  -52.671448   37.715363 ]\n",
      " [-60.474625   28.611656    4.551857  -16.256615 ]\n",
      " [-57.873566   71.52914   -61.124886  -68.2778   ]], shape=(64, 4), dtype=float32)\n",
      "tf.Tensor(\n",
      "[[ 187.649    -132.97961 ]\n",
      " [  81.265335 -175.8286  ]\n",
      " [ 101.951035  119.681656]\n",
      " [ 103.42857   152.18779 ]], shape=(4, 2), dtype=float32)\n",
      "tf.Tensor(\n",
      "[[-121.90729     -6.360382  -104.94627     -5.3003235  122.96735\n",
      "    92.22551      2.1201172  -56.183365   -56.183365    68.90411\n",
      "   -49.822983   110.24658    114.48683     29.681763    73.14436\n",
      "   106.00633  ]\n",
      " [  86.925186   -80.56482     72.084305    57.243423    76.324554\n",
      "   -85.865135  -134.62805    -74.20444    -50.88305    -85.865135\n",
      "    -9.540573  -112.36672     23.321396    98.58589    -33.922035\n",
      "    -7.4204483]], shape=(2, 16), dtype=float32)\n",
      "tf.Tensor(\n",
      "[[-33.985977  -27.80671    14.418289  ...  52.52379    40.165253\n",
      "   60.762802 ]\n",
      " [-62.82257     0.          7.209152  ...  33.985977  -10.298782\n",
      "   19.567688 ]\n",
      " [ 21.627441  -47.374397   -3.0896378 ...  23.687195    1.0298767\n",
      "  -62.82257  ]\n",
      " ...\n",
      " [-16.47805     2.0597534 -46.34452   ...  60.762802   82.39024\n",
      "  -22.657318 ]\n",
      " [-26.776833   21.627441   41.19513   ... -45.314636  -14.418297\n",
      "  -23.687195 ]\n",
      " [  6.1792603 -60.76281   -41.19513   ... -46.34452   -44.28476\n",
      "   33.985977 ]], shape=(16, 64), dtype=float32)\n"
     ]
    }
   ],
   "source": [
    "for layer in model_obj.q_aware_model.layers:\n",
    "  if hasattr(layer, 'quantize_config'):\n",
    "    for weight, quantizer, quantizer_vars in layer._weight_vars:\n",
    "        quantized_and_dequantized = quantizer(weight, training=False, weights=quantizer_vars)\n",
    "        min_var = quantizer_vars['min_var']\n",
    "        max_var = quantizer_vars['max_var']\n",
    "        print(quantized_and_dequantized*(2**(BIT_WIDTH)))\n",
    "        # quantized = dequantize(quantized_and_dequantized, min_var, max_var, quantizer)"
   ]
  },
  {
   "cell_type": "code",
   "execution_count": null,
   "metadata": {},
   "outputs": [
    {
     "ename": "AttributeError",
     "evalue": "'bytes' object has no attribute 'layers'",
     "output_type": "error",
     "traceback": [
      "\u001b[1;31m---------------------------------------------------------------------------\u001b[0m",
      "\u001b[1;31mAttributeError\u001b[0m                            Traceback (most recent call last)",
      "Cell \u001b[1;32mIn[51], line 1\u001b[0m\n\u001b[1;32m----> 1\u001b[0m model_obj\u001b[39m.\u001b[39;49mquantized_tflite_model\u001b[39m.\u001b[39;49mlayers\n",
      "\u001b[1;31mAttributeError\u001b[0m: 'bytes' object has no attribute 'layers'"
     ]
    }
   ],
   "source": [
    "model_obj.quantized_tflite_model.layers"
   ]
  },
  {
   "cell_type": "code",
   "execution_count": null,
   "metadata": {},
   "outputs": [],
   "source": [
    "model_obj.interpreter.layers"
   ]
  },
  {
   "cell_type": "code",
   "execution_count": null,
   "metadata": {},
   "outputs": [],
   "source": [
    "model_obj.plot_float_model()"
   ]
  },
  {
   "cell_type": "code",
   "execution_count": null,
   "metadata": {},
   "outputs": [],
   "source": [
    "# obj = model_obj\n",
    "# plot_quantized_model(obj, n=6)\n",
    "model_obj.plot_quantized_model(n=6)"
   ]
  },
  {
   "attachments": {},
   "cell_type": "markdown",
   "metadata": {},
   "source": [
    "## See 4x smaller model from quantization"
   ]
  },
  {
   "attachments": {},
   "cell_type": "markdown",
   "metadata": {},
   "source": [
    "You create a float TFLite model and then see that the quantized TFLite model\n",
    "is 4x smaller."
   ]
  },
  {
   "cell_type": "code",
   "execution_count": null,
   "metadata": {},
   "outputs": [],
   "source": [
    "import tempfile\n",
    "import os"
   ]
  },
  {
   "cell_type": "code",
   "execution_count": null,
   "metadata": {},
   "outputs": [],
   "source": [
    "# Create float TFLite model.\n",
    "float_converter = tf.lite.TFLiteConverter.from_keras_model(model_obj.model)\n",
    "float_tflite_model = float_converter.convert()\n",
    "\n",
    "# Measure sizes of models.\n",
    "_, float_file = tempfile.mkstemp('.tflite')\n",
    "_, quant_file = tempfile.mkstemp('.tflite')\n",
    "\n",
    "with open(quant_file, 'wb') as f:\n",
    "  f.write(model_obj.quantized_tflite_model)\n",
    "\n",
    "with open(float_file, 'wb') as f:\n",
    "  f.write(float_tflite_model)\n",
    "\n",
    "print(\"Float model in Mb:\", os.path.getsize(float_file) / float(2**20))\n",
    "print(\"Quantized model in Mb:\", os.path.getsize(quant_file) / float(2**20))"
   ]
  },
  {
   "cell_type": "code",
   "execution_count": null,
   "metadata": {},
   "outputs": [],
   "source": [
    "float_converter.get_tensor_details()"
   ]
  },
  {
   "cell_type": "code",
   "execution_count": null,
   "metadata": {},
   "outputs": [],
   "source": []
  }
 ],
 "metadata": {
  "kernelspec": {
   "display_name": "Python 3",
   "language": "python",
   "name": "python3"
  },
  "language_info": {
   "codemirror_mode": {
    "name": "ipython",
    "version": 3
   },
   "file_extension": ".py",
   "mimetype": "text/x-python",
   "name": "python",
   "nbconvert_exporter": "python",
   "pygments_lexer": "ipython3",
   "version": "3.9.5"
  },
  "orig_nbformat": 4,
  "vscode": {
   "interpreter": {
    "hash": "d1b75f63a51ab1e44c10e89cf3b718812d9c5e2447d39cb402b946ba7653bfcd"
   }
  }
 },
 "nbformat": 4,
 "nbformat_minor": 2
}
